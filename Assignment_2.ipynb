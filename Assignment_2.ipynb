{
 "cells": [
  {
   "cell_type": "code",
   "execution_count": 1,
   "id": "a6857c60",
   "metadata": {},
   "outputs": [],
   "source": [
    "%load_ext autoreload\n",
    "%autoreload 2\n",
    "\n",
    "import pandas as pd\n",
    "pd.set_option(\"display.max_rows\", 101)\n",
    "pd.set_option(\"display.max_columns\", 101)\n",
    "\n",
    "import matplotlib.pyplot as plt\n",
    "import matplotlib.patches as patches"
   ]
  },
  {
   "cell_type": "code",
   "execution_count": 2,
   "id": "d2b01551",
   "metadata": {},
   "outputs": [],
   "source": [
    "import example_module as em"
   ]
  },
  {
   "cell_type": "code",
   "execution_count": 3,
   "id": "080c27cf",
   "metadata": {},
   "outputs": [],
   "source": [
    "def tennis_court():\n",
    "    \n",
    "    #Create figure\n",
    "    fig=plt.figure()\n",
    "    ax=fig.add_subplot(1,1,1)\n",
    "    ax.set_facecolor(\"green\")\n",
    "    \n",
    "    \n",
    "    \n",
    "    #Court outline & center line\n",
    "    plt.plot([0,0],[0,10.97], color=\"white\")\n",
    "    plt.plot([0,23.77],[10.97,10.97], color=\"white\")\n",
    "    plt.plot([23.77,23.77],[10.97,0], color=\"white\")\n",
    "    plt.plot([23.77,0],[0,0], color=\"white\")\n",
    "    plt.plot([11.885,11.885],[0,10.97], color=\"white\")\n",
    "    \n",
    "    #Net\n",
    "    plt.plot([11.88,11.88],[-0.91,11.88], color=\"white\")\n",
    "    \n",
    "    #Singles sideline\n",
    "    plt.plot([0,23.77],[1.37,1.37], color=\"white\")\n",
    "    plt.plot([0,23.77],[9.6,9.6], color=\"white\")\n",
    "    \n",
    "    #Service lanes\n",
    "    plt.plot([5.48,5.48],[1.37,9.6], color=\"white\")\n",
    "    plt.plot([18.29,18.29],[1.37,9.6], color=\"white\")\n",
    "    \n",
    "    #Center service line\n",
    "    plt.plot([5.48,18.29],[5.485,5.485], color=\"white\")\n",
    "    \n",
    "    #Center marks\n",
    "    plt.plot([0,0.1],[5.485,5.485], color=\"white\")\n",
    "    plt.plot([23.67,23.77],[5.485,5.485], color=\"white\")\n",
    "    \n",
    "    #Prepare tennis court posts\n",
    "    leftPost = plt.Circle((11.885,-1.15),0.15,color=\"blue\")\n",
    "    rightPost = plt.Circle((11.885,12.13),0.15,color=\"blue\")\n",
    "    \n",
    "    #Draw tennis court posts\n",
    "    ax.add_patch(leftPost)\n",
    "    ax.add_patch(rightPost)\n",
    "    \n",
    "    #Hide x-axis\n",
    "    ax.get_xaxis().set_visible(False)\n",
    "\n",
    "    #Hide y-axis\n",
    "    ax.get_yaxis().set_visible(False)\n",
    "    \n",
    "    #Save imange as a PNG file\n",
    "    plt.savefig('Tennis.png', bbox_inches='tight', pad_inches=0)\n",
    "    \n",
    "    #Display court\n",
    "    plt.show()\n"
   ]
  },
  {
   "cell_type": "code",
   "execution_count": 4,
   "id": "36b13be7",
   "metadata": {},
   "outputs": [
    {
     "data": {
      "image/png": "[encoded data removed]",
      "text/plain": [
       "<Figure size 640x480 with 1 Axes>"
      ]
     },
     "metadata": {},
     "output_type": "display_data"
    }
   ],
   "source": [
    "tennis_court()"
   ]
  }
 ],
 "metadata": {
  "kernelspec": {
   "display_name": "Python 3 (ipykernel)",
   "language": "python",
   "name": "python3"
  },
  "language_info": {
   "codemirror_mode": {
    "name": "ipython",
    "version": 3
   },
   "file_extension": ".py",
   "mimetype": "text/x-python",
   "name": "python",
   "nbconvert_exporter": "python",
   "pygments_lexer": "ipython3",
   "version": "3.10.4"
  }
 },
 "nbformat": 4,
 "nbformat_minor": 5
}
